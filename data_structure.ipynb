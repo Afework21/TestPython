{
 "cells": [
  {
   "cell_type": "code",
   "execution_count": 45,
   "id": "46e3c4d6-865e-4907-9073-541904d545b2",
   "metadata": {},
   "outputs": [
    {
     "name": "stdout",
     "output_type": "stream",
     "text": [
      "2\n",
      "['apple', 'banana', 'cherry', 'apple', 'grape']\n",
      "['apple', 'apple', 'banana', 'cherry', 'grape']\n",
      "None\n",
      "apple\n",
      "['grape', 'cherry', 'banana', 'apple']\n"
     ]
    }
   ],
   "source": [
    "\n",
    "# data structures on list\n",
    "fruits = ['apple', 'banana', 'cherry','apple']\n",
    "print(fruits.count('apple'))\n",
    "fruits.append('grape')\n",
    "          \n",
    "print(fruits)  # ['apple', 'banana', 'cherry', 'grape']\n",
    "\n",
    "fruits.sort()\n",
    "print(fruits)  # ['apple', 'banana', 'cherry', 'grape']\n",
    "print(fruits.reverse())\n",
    "\n",
    "print(fruits.pop())  # 'grape'\n",
    "print(fruits)  # ["
   ]
  },
  {
   "cell_type": "code",
   "execution_count": 29,
   "id": "832788fd-1a67-4bcc-8cd5-dd3a535178f7",
   "metadata": {},
   "outputs": [
    {
     "name": "stdout",
     "output_type": "stream",
     "text": [
      "[1, 2, 3, 4, 5]\n",
      "5\n",
      "[1, 2, 3, 4]\n",
      "4\n",
      "[1, 2, 3]\n",
      "3\n",
      "[1, 2]\n",
      "2\n",
      "[1]\n",
      "1\n"
     ]
    }
   ],
   "source": [
    "# using lists as stacks(first in first last out)\n",
    "stack = [1, 2, 3]\n",
    "stack.append(4) \n",
    "stack.append(5)\n",
    "print (stack)# Push\n",
    "print(stack.pop())\n",
    "print(stack)\n",
    "print(stack.pop())\n",
    "print(stack)\n",
    "print(stack.pop())\n",
    "print(stack)\n",
    "print(stack.pop())\n",
    "print(stack)\n",
    "print(stack.pop())\n",
    "\n",
    "# 4 (Last in, first out)"
   ]
  },
  {
   "cell_type": "code",
   "execution_count": 21,
   "id": "a5fe6910-a272-4262-a11f-3ae68a382e06",
   "metadata": {},
   "outputs": [
    {
     "name": "stdout",
     "output_type": "stream",
     "text": [
      "deque(['Eric', 'john', 'Michael', 'Afework', 'Beta'])\n"
     ]
    },
    {
     "data": {
      "text/plain": [
       "'Eric'"
      ]
     },
     "execution_count": 21,
     "metadata": {},
     "output_type": "execute_result"
    }
   ],
   "source": [
    "# Using Lists as Queues--FIFO(First in -First out)\n",
    "from collections import deque\n",
    "queue=deque([\"Eric\",\"john\",\"Michael\"])\n",
    "queue.append(\"Afework\")\n",
    "queue.append(\"Beta\")\n",
    "print(queue)\n",
    "queue.popleft()\n"
   ]
  },
  {
   "cell_type": "code",
   "execution_count": null,
   "id": "fa059ca7-1bb0-413e-ac94-c09977b5b97a",
   "metadata": {},
   "outputs": [],
   "source": []
  },
  {
   "cell_type": "code",
   "execution_count": 7,
   "id": "d4c95ce6-76eb-4012-ba0f-dbb5c650a9a1",
   "metadata": {},
   "outputs": [
    {
     "name": "stdout",
     "output_type": "stream",
     "text": [
      "[0, 1, 4, 9, 16]\n",
      "[0, 2, 4, 6, 8]\n",
      "[(1, 4), (1, 5), (1, 6), (2, 4), (2, 5), (2, 6), (3, 4), (3, 5), (3, 6)]\n",
      "deque(['Eric', 'john', 'Michael'])\n"
     ]
    },
    {
     "data": {
      "text/plain": [
       "'john'"
      ]
     },
     "execution_count": 7,
     "metadata": {},
     "output_type": "execute_result"
    }
   ],
   "source": [
    "# List comprehesions\n",
    "squares = [x**2 for x in range(5)]\n",
    "print(squares)  # [0, 1, 4, 9, 16]\n",
    "\n",
    "evens = [x for x in range(10) if x % 2 == 0]\n",
    "print(evens)  # [0, 2, 4, 6, 8]\n",
    "\n",
    "pairs = [(x, y) for x in [1,2,3] for y in [4,5,6] if x != y]\n",
    "print(pairs)  # [(1, 4), (1, 5), (1, 6), (2, 4), (2, 5), (2, 6), (3, 4), (3, 5), (3, 6)]\n"
   ]
  },
  {
   "cell_type": "code",
   "execution_count": 98,
   "id": "8c02d719-b56e-426d-a76c-6e591cadc696",
   "metadata": {},
   "outputs": [
    {
     "name": "stdout",
     "output_type": "stream",
     "text": [
      "[0, 1, 4, 9, 16]\n",
      "[0, 2, 4, 6, 8]\n",
      "[(1, 4), (1, 5), (1, 6), (2, 4), (2, 5), (2, 6), (3, 4), (3, 5), (3, 6)]\n"
     ]
    }
   ],
   "source": [
    "from typing import List, Tuple\n",
    "\n",
    "def generate_squares(n: int) -> List[int]:\n",
    "    \"\"\"\n",
    "    Generate a list of squared numbers from 0 to n-1.\n",
    "    \n",
    "    Args:\n",
    "        n (int): Upper bound (exclusive) for the range.\n",
    "    \n",
    "    Returns:\n",
    "        List[int]: List of squared numbers.\n",
    "    \"\"\"\n",
    "    return [x**2 for x in range(n)]\n",
    "\n",
    "def get_even_numbers(n: int) -> List[int]:\n",
    "    \"\"\"\n",
    "    Generate a list of even numbers from 0 to n-1.\n",
    "    \n",
    "    Args:\n",
    "        n (int): Upper bound (exclusive) for the range.\n",
    "    \n",
    "    Returns:\n",
    "        List[int]: List of even numbers.\n",
    "    \"\"\"\n",
    "    return [x for x in range(n) if x % 2 == 0]\n",
    "\n",
    "def generate_pairs(first_seq: List[int], second_seq: List[int]) -> List[Tuple[int, int]]:\n",
    "    \"\"\"\n",
    "    Generate pairs of numbers where the first and second numbers are different.\n",
    "    \n",
    "    Args:\n",
    "        first_seq (List[int]): First sequence of numbers.\n",
    "        second_seq (List[int]): Second sequence of numbers.\n",
    "    \n",
    "    Returns:\n",
    "        List[Tuple[int, int]]: List of pairs where x != y.\n",
    "    \"\"\"\n",
    "    return [(x, y) for x in first_seq for y in second_seq if x != y]\n",
    "\n",
    "# Example usage:\n",
    "print(generate_squares(5))  # [0, 1, 4, 9, 16]\n",
    "print(get_even_numbers(10))  # [0, 2, 4, 6, 8]\n",
    "print(generate_pairs([1, 2, 3], [4, 5, 6]))  # [(1, 4), (1, 5), (1, 6), ...]"
   ]
  },
  {
   "cell_type": "code",
   "execution_count": 38,
   "id": "ce4a41c2-fbdb-4949-a165-80f2f3ad64a3",
   "metadata": {},
   "outputs": [
    {
     "data": {
      "text/plain": [
       "[(1, 3), (1, 1), (1, 4), (2, 3), (2, 1), (2, 4), (3, 3), (3, 1), (3, 4)]"
      ]
     },
     "execution_count": 38,
     "metadata": {},
     "output_type": "execute_result"
    }
   ],
   "source": [
    "combs=[]\n",
    "for x in [1,2,3]:\n",
    "    for y in [3,1,4]:\n",
    "   # if x != y:\n",
    "        combs.append((x,y))\n",
    "combs"
   ]
  },
  {
   "cell_type": "code",
   "execution_count": 92,
   "id": "165ca165-3f45-41b6-8579-6397e01c1ff4",
   "metadata": {},
   "outputs": [
    {
     "data": {
      "text/plain": [
       "[(0, 0), (1, 1), (2, 4), (3, 9), (4, 16), (5, 25)]"
      ]
     },
     "execution_count": 92,
     "metadata": {},
     "output_type": "execute_result"
    }
   ],
   "source": [
    "vec=[-4,-2,-1,4,6,8]\n",
    "#[x for x in vec if x>=0]\n",
    "[abs(x) for x in vec]   \n",
    "[(x,x**2) for x in range(6)]   "
   ]
  },
  {
   "cell_type": "code",
   "execution_count": 94,
   "id": "808eb375-5ed1-4df8-96c7-2542725572a1",
   "metadata": {},
   "outputs": [
    {
     "name": "stdout",
     "output_type": "stream",
     "text": [
      "[1, 2, 4]\n",
      "[]\n"
     ]
    }
   ],
   "source": [
    "# The del statement\n",
    "nums = [1, 2, 3, 4]\n",
    "del nums[2]  # Removes 3\n",
    "print(nums)  # [1, 2, 4]\n",
    "\n",
    "del nums[:]  # Clears list\n",
    "print(nums)  # []\n"
   ]
  },
  {
   "cell_type": "code",
   "execution_count": 96,
   "id": "b9ffb307-828c-4b17-931c-0d8ce404ff68",
   "metadata": {},
   "outputs": [
    {
     "name": "stdout",
     "output_type": "stream",
     "text": [
      "20\n",
      "10 20 hello\n"
     ]
    }
   ],
   "source": [
    "# Tuples and sequences\n",
    "t = (10, 20, \"hello\")    # Create a tuple with mixed data types (integers and string)\n",
    "print(t[1])              # Access second element of tuple using index 1\n",
    "\n",
    "# Packing and unpacking\n",
    "a, b, c = t              # Unpack tuple values into individual variables\n",
    "print(a, b, c)          # Print the unpacked values"
   ]
  },
  {
   "cell_type": "code",
   "execution_count": 100,
   "id": "1ffce69c-39f7-47a9-a52d-c4ea51d7a142",
   "metadata": {},
   "outputs": [
    {
     "name": "stdout",
     "output_type": "stream",
     "text": [
      "{1, 2, 3, 4, 5, 6}\n",
      "{3, 4}\n",
      "{1, 2}\n",
      "{1, 2, 5, 6}\n"
     ]
    }
   ],
   "source": [
    "# Set operations\n",
    "a = {1, 2, 3, 4}\n",
    "b = {3, 4, 5, 6}\n",
    "\n",
    "print(a | b)  # Union: {1, 2, 3, 4, 5, 6}\n",
    "print(a & b)  # Intersection: {3, 4}\n",
    "print(a - b)  # Difference: {1, 2}\n",
    "print(a ^ b)  # Symmetric Difference: {1, 2, 5, 6}"
   ]
  },
  {
   "cell_type": "code",
   "execution_count": 102,
   "id": "fde95dda-30b5-43a1-b931-d2c83cd16373",
   "metadata": {},
   "outputs": [
    {
     "name": "stdout",
     "output_type": "stream",
     "text": [
      "{'name': 'Alice', 'age': 25, 'city': 'New York'}\n",
      "dict_keys(['name', 'age', 'city'])\n",
      "dict_values(['Alice', 25, 'New York'])\n",
      "dict_items([('name', 'Alice'), ('age', 25), ('city', 'New York')])\n"
     ]
    }
   ],
   "source": [
    "# Dictionaries\n",
    "data = {'name': 'Alice', 'age': 25}\n",
    "data['city'] = 'New York'\n",
    "print(data)  # {'name': 'Alice', 'age': 25, 'city': 'New York'}\n",
    "\n",
    "print(data.keys())  # dict_keys(['name', 'age', 'city'])\n",
    "print(data.values())  # dict_values(['Alice', 25, 'New York'])\n",
    "print(data.items())  # dict_items([('name', 'Alice'), ('age', 25), ('city', 'New York')])"
   ]
  },
  {
   "cell_type": "code",
   "execution_count": 106,
   "id": "73b7f4c6-7648-47bc-b037-40f1d735824d",
   "metadata": {},
   "outputs": [
    {
     "name": "stdout",
     "output_type": "stream",
     "text": [
      "name Alice\n",
      "age 25\n",
      "city New York\n"
     ]
    }
   ],
   "source": [
    "# Looping Techniques\n",
    "# Looping Through Dictionaries\n",
    "\n",
    "# Iterate through key-value pairs in the data dictionary using .items() method\n",
    "# key variable stores the dictionary key, value variable stores the corresponding value\n",
    "for key, value in data.items():\n",
    "    # Print both the key and value on each iteration\n",
    "    print(key, value)"
   ]
  },
  {
   "cell_type": "code",
   "execution_count": 114,
   "id": "62aa2d6c-1f66-4279-8175-7f636b9ea107",
   "metadata": {},
   "outputs": [
    {
     "name": "stdout",
     "output_type": "stream",
     "text": [
      "0 a\n",
      "1 b\n",
      "2 c\n"
     ]
    }
   ],
   "source": [
    "# Looping Techniques\n",
    "# Enumerate (Index + Value)\n",
    "# Using enumerate() to loop through a list while getting both index and value\n",
    "# i will contain the index (0,1,2), v will contain the values ('a','b','c')\n",
    "for i, v in enumerate(['a', 'b', 'c']):\n",
    "    print(i, v)  # Print both index and value for each iteration"
   ]
  },
  {
   "cell_type": "code",
   "execution_count": 124,
   "id": "f2bb91d1-0a1b-4a50-9320-af1e77df2324",
   "metadata": {},
   "outputs": [
    {
     "name": "stdout",
     "output_type": "stream",
     "text": [
      "9\n",
      "7\n",
      "5\n",
      "3\n",
      "1\n"
     ]
    }
   ],
   "source": [
    "# Using reversed() to iterate through a range in reverse order\n",
    "# Note: This code has a syntax error as range() takes 1-3 arguments, not 4\n",
    "# Correct usage would be range(start, stop, step)\n",
    "for i in reversed(range(1,10,2)):\n",
    "    print(i)"
   ]
  },
  {
   "cell_type": "code",
   "execution_count": null,
   "id": "582ab4e3-25a1-4ef3-9e6f-efc301a02e9c",
   "metadata": {},
   "outputs": [],
   "source": []
  }
 ],
 "metadata": {
  "kernelspec": {
   "display_name": "Python [conda env:base] *",
   "language": "python",
   "name": "conda-base-py"
  },
  "language_info": {
   "codemirror_mode": {
    "name": "ipython",
    "version": 3
   },
   "file_extension": ".py",
   "mimetype": "text/x-python",
   "name": "python",
   "nbconvert_exporter": "python",
   "pygments_lexer": "ipython3",
   "version": "3.12.7"
  }
 },
 "nbformat": 4,
 "nbformat_minor": 5
}
